{
  "nbformat": 4,
  "nbformat_minor": 0,
  "metadata": {
    "colab": {
      "name": "8octubre.ipynb",
      "provenance": [],
      "authorship_tag": "ABX9TyP378Ga46K+qGPIPXl6AxSi",
      "include_colab_link": true
    },
    "kernelspec": {
      "name": "python3",
      "display_name": "Python 3"
    }
  },
  "cells": [
    {
      "cell_type": "markdown",
      "metadata": {
        "id": "view-in-github",
        "colab_type": "text"
      },
      "source": [
        "<a href=\"https://colab.research.google.com/github/Alejandro-Duran/edd_1310_2020_8octubre/blob/main/8octubre.ipynb\" target=\"_parent\"><img src=\"https://colab.research.google.com/assets/colab-badge.svg\" alt=\"Open In Colab\"/></a>"
      ]
    },
    {
      "cell_type": "code",
      "metadata": {
        "id": "R5FvrVnS7Fsz"
      },
      "source": [
        "#Listas Multidimensionales\n",
        "monitores =[[\"Samsung\",\"17.3 \\\"\",1024],[\"BenQ\",\"40\\\"\",2048]]\n",
        "procesadores = [[\"Intel\",\"i7\",3.4],[\"AMD\",\"razzer\",3.3],[\"Intel\",\"i3\",3.1]]\n",
        "memorias = [[\"Kingston\", \"8GB\",\"DDR4\"],[\"Kingston\", \"16GB\",\"DDR3\"],[\"ADATA\", \"32GB\",\"DDR4\"]]\n",
        "\n",
        "componentes = [monitores,procesadores,memorias]\n",
        "print(componentes)\n",
        "print(componentes[1])\n",
        "print(componentes[2][1][1])\n",
        "print(int(componentes[0][1][2])*2)\n",
        "print(componentes[1][1][1][1:4:1])\n",
        "print(str(componentes[2][2][0]).lower())#convertir a minusculas, uper, para mayusculas, swapcase para cualquiera de las dos\n",
        "#capitalize para que sólo la primera letra sea mayuscula"
      ],
      "execution_count": null,
      "outputs": []
    },
    {
      "cell_type": "code",
      "metadata": {
        "id": "4hVDx4EtH0Cz"
      },
      "source": [
        "#extender listas\n",
        "\n",
        "frutas = [\"manzana\", \" pera\"]\n",
        "otras_frutas=[\"aguacate\",\"sandia\"]\n",
        "# + sobre listas\n",
        "frutas += otras_frutas\n",
        "print(frutas)\n",
        "#funcion extend\n",
        "frutas.extend(otras_frutas)\n",
        "print(frutas)\n",
        "\n",
        "\n",
        "frutas.append(otras_frutas)\n",
        "print (frutas)\n",
        "\n",
        "#copiar\n",
        "colores=[\"azul\",\"rojo\",\"verde\",\"violeta\"]\n",
        "otros_colores=colores #solo se nobra de diferente forma a los mismos valores\n",
        "print(colores)\n",
        "print(otros_colores)\n",
        "otros_colores.append(\"rosa\")\n",
        "print(colores)\n",
        "print(otros_colores)\n",
        "\n",
        "una_mas = colores.copy() #se copia dentro de una nueva variable con nuevo espacio en memoria\n",
        "print(una_mas)\n",
        "una_mas.append(\"gris\")\n",
        "print(una_mas)\n",
        "\n",
        "#unpaking de listas\n",
        "alumno = [\"Jesus\",\"Perez\", \"Herrera\",22,\"ICO\",10.0]\n",
        "nombre=alumno[0]\n",
        "paterno=alumno[1]\n",
        "#etc.\n",
        "\n",
        "nombre, paterno, materno, edad, carrera, promedio = alumno\n",
        "print(f\"nombre :{nombre} carrera {carrera} promedio {promedio}\")"
      ],
      "execution_count": null,
      "outputs": []
    },
    {
      "cell_type": "markdown",
      "metadata": {
        "id": "8YUYGW1ZR7O2"
      },
      "source": [
        "# Tuplas\n",
        "- se eclaran con parentesis\n",
        "-el selector es igual que een las lista [ ]\n",
        "-no son mutables"
      ]
    },
    {
      "cell_type": "code",
      "metadata": {
        "id": "adZCBJq1SLfJ"
      },
      "source": [
        "precios = (99.9, 49.90, 12.45, 55.66) #sirven para consultas y para crear listas de valores constantes\n",
        "print(precios[1])\n",
        "print(precios)\n",
        "print(precios[2:4])"
      ],
      "execution_count": null,
      "outputs": []
    },
    {
      "cell_type": "markdown",
      "metadata": {
        "id": "f1GpxaZWTjQR"
      },
      "source": [
        "#Diccionarios\n",
        "-se declara con llaves\n",
        "-son mutables\n",
        "-conjunto de pares llave:valor\n",
        "-equivalentes a los objetos JSON de JavaScript"
      ]
    },
    {
      "cell_type": "code",
      "metadata": {
        "id": "p_V1cHukT1K2"
      },
      "source": [
        "cliente = {}\n",
        "print(cliente)\n",
        "alumno={  \"num_cta\" :30303003}\n",
        "print(alumno)\n",
        "\n",
        "alumno = {\"num_cta\" : 30303003, \n",
        "          \"carrera\" : \"ICO\",\n",
        "          \"promedio\" : 9.8,\n",
        "          \"materias\" : [\"EDD\",\"CyP\",\"Calidad\",\"Emprendimiento\"],\n",
        "          \"dirección\" : {\"calle\" : \"rancho seco\",\n",
        "                         \"numero\" : 23,\n",
        "                         \"delegación\" : \"Neza\",\n",
        "                         \"Estado\" : {\"id\" : 15,\n",
        "                                     \"nombre\" : \"Estadoo De Mexico\",\n",
        "                                     \"nombre_corto\" : \"EdoMex\"},\n",
        "                         \"CP\" : 57170}}\n",
        "print(alumno)\n",
        "print(alumno[\"materias\"])\n",
        "print(alumno[\"promedio\"])\n",
        "print(alumno[\"dirección\"][\"Estado\"][\"nombre_corto\"])"
      ],
      "execution_count": null,
      "outputs": []
    }
  ]
}